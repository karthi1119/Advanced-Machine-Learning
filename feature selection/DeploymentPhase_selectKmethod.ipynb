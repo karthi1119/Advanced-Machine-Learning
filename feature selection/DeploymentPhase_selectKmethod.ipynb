{
 "cells": [
  {
   "cell_type": "code",
   "execution_count": 1,
   "id": "979327aa-ccdf-4b90-9b93-aebca9d7e095",
   "metadata": {},
   "outputs": [],
   "source": [
    "import pickle"
   ]
  },
  {
   "cell_type": "code",
   "execution_count": 2,
   "id": "12d0e62b-dccd-4b7b-a736-09e71adaad5e",
   "metadata": {},
   "outputs": [],
   "source": [
    "loaded_model=pickle.load(open(\"finalized_model_decisionTree.sav\",'rb'))"
   ]
  },
  {
   "cell_type": "code",
   "execution_count": 3,
   "id": "89c49b3e-4dc2-4818-bdde-306cb0f4af2e",
   "metadata": {},
   "outputs": [],
   "source": [
    "loaded_model2=pickle.load(open(\"finalized_model_sc.sav\",'rb'))"
   ]
  },
  {
   "cell_type": "code",
   "execution_count": 7,
   "id": "d4f540d7-9f1f-4df2-887f-fc2a0ed6af84",
   "metadata": {},
   "outputs": [
    {
     "data": {
      "text/plain": [
       "array([[ 1.75526219,  0.59121584, -0.17643217, -0.4015706 ,  0.04550575,\n",
       "         1.83371868, -3.00093739]])"
      ]
     },
     "execution_count": 7,
     "metadata": {},
     "output_type": "execute_result"
    }
   ],
   "source": [
    "preinput=loaded_model2.transform([[3,192,51,0.9,12.6,54,1245]])\n",
    "preinput"
   ]
  },
  {
   "cell_type": "code",
   "execution_count": 8,
   "id": "a19ebbac-252b-4062-9070-b3be377bba31",
   "metadata": {},
   "outputs": [],
   "source": [
    "result=loaded_model.predict(preinput)"
   ]
  },
  {
   "cell_type": "code",
   "execution_count": 9,
   "id": "19e34345-9638-4d3f-98b0-a34a612386d4",
   "metadata": {},
   "outputs": [
    {
     "data": {
      "text/plain": [
       "array([1])"
      ]
     },
     "execution_count": 9,
     "metadata": {},
     "output_type": "execute_result"
    }
   ],
   "source": [
    "result"
   ]
  },
  {
   "cell_type": "code",
   "execution_count": null,
   "id": "1234aa36-2f01-443c-aa13-13b5508d2eb1",
   "metadata": {},
   "outputs": [],
   "source": []
  }
 ],
 "metadata": {
  "kernelspec": {
   "display_name": "Python 3 (ipykernel)",
   "language": "python",
   "name": "python3"
  },
  "language_info": {
   "codemirror_mode": {
    "name": "ipython",
    "version": 3
   },
   "file_extension": ".py",
   "mimetype": "text/x-python",
   "name": "python",
   "nbconvert_exporter": "python",
   "pygments_lexer": "ipython3",
   "version": "3.12.4"
  }
 },
 "nbformat": 4,
 "nbformat_minor": 5
}
