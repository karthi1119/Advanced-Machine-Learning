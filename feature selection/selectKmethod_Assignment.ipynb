{
 "cells": [
  {
   "cell_type": "code",
   "execution_count": 1,
   "id": "e8a662cd-ae09-40dc-ba39-766330cd4f43",
   "metadata": {},
   "outputs": [],
   "source": [
    "import pandas as pd\n",
    "from sklearn.model_selection import train_test_split \n",
    "from sklearn.preprocessing import StandardScaler\n",
    "from sklearn.feature_selection import SelectKBest, chi2\n",
    "from sklearn.tree import DecisionTreeClassifier\n",
    "from sklearn.metrics import confusion_matrix, accuracy_score, classification_report\n",
    "import numpy as np"
   ]
  },
  {
   "cell_type": "code",
   "execution_count": 2,
   "id": "80fb3971-40d8-4d44-b4f9-f38601cf7c33",
   "metadata": {},
   "outputs": [],
   "source": [
    "dataset1 = pd.read_csv(\"CKD.csv\", index_col=None)\n",
    "df2 = pd.get_dummies(dataset1, drop_first=True,dtype=int)\n",
    "\n",
    "indep_X = df2.drop('classification_yes', axis=1)\n",
    "dep_Y = df2['classification_yes']"
   ]
  },
  {
   "cell_type": "code",
   "execution_count": 3,
   "id": "01699f23-7e18-451c-b546-fea7ac1b8353",
   "metadata": {},
   "outputs": [],
   "source": [
    "def selectkbest(indep_X, dep_Y, n):\n",
    "    test = SelectKBest(score_func=chi2, k=n)\n",
    "    fit1 = test.fit(indep_X, dep_Y)\n",
    "    selectk_features = fit1.transform(indep_X)\n",
    "    selected_feature_names = fit1.get_feature_names_out(input_features=indep_X.columns)\n",
    "    return selectk_features, selected_feature_names\n",
    "def split_scalar(indep_X, dep_Y):\n",
    "    X_train, X_test, y_train, y_test = train_test_split(indep_X, dep_Y, test_size=0.25, random_state=0)\n",
    "    sc = StandardScaler()\n",
    "    X_train = sc.fit_transform(X_train)\n",
    "    X_test = sc.transform(X_test)    \n",
    "    return X_train, X_test, y_train, y_test, sc\n",
    "def cm_prediction(classifier, X_test, y_test):\n",
    "    y_pred = classifier.predict(X_test)\n",
    "    cm = confusion_matrix(y_test, y_pred)\n",
    "    Accuracy = accuracy_score(y_test, y_pred)\n",
    "    report = classification_report(y_test, y_pred)\n",
    "    return classifier, Accuracy, report, cm\n",
    "def Decision(X_train, y_train, X_test, y_test):\n",
    "    classifier = DecisionTreeClassifier(criterion='entropy', random_state=0)\n",
    "    classifier.fit(X_train, y_train)\n",
    "    return cm_prediction(classifier, X_test, y_test)\n",
    "def selectk_Classification(accdes):\n",
    "    dataframe = pd.DataFrame(index=['Accuracy'], columns=['Decision'])\n",
    "    dataframe['Decision'] = accdes\n",
    "    return dataframe"
   ]
  },
  {
   "cell_type": "code",
   "execution_count": 4,
   "id": "c793cca4-945d-4329-b7a2-4de041c4863a",
   "metadata": {},
   "outputs": [],
   "source": [
    "kbest_features, selected_feature_names = selectkbest(indep_X, dep_Y, 7)"
   ]
  },
  {
   "cell_type": "code",
   "execution_count": 5,
   "id": "a343fba2-763e-4015-a632-dbf0f525f75e",
   "metadata": {},
   "outputs": [],
   "source": [
    "X_train, X_test, y_train, y_test,sc = split_scalar(pd.DataFrame(kbest_features), dep_Y)"
   ]
  },
  {
   "cell_type": "code",
   "execution_count": 6,
   "id": "1dcb571f-2a7f-411f-be1e-7f50c79cf601",
   "metadata": {},
   "outputs": [],
   "source": [
    "accdes = []\n",
    "classifier, Accuracy, report, cm = Decision(X_train, y_train, X_test, y_test)  \n",
    "accdes.append(Accuracy)"
   ]
  },
  {
   "cell_type": "code",
   "execution_count": 7,
   "id": "e15ad00d-f527-47e8-b84a-50c6c171ee6b",
   "metadata": {},
   "outputs": [
    {
     "name": "stdout",
     "output_type": "stream",
     "text": [
      "Selected feature names: ['al' 'bgr' 'bu' 'sc' 'hrmo' 'pcv' 'wc']\n",
      "          Decision\n",
      "Accuracy      0.98\n"
     ]
    }
   ],
   "source": [
    "result = selectk_Classification(accdes)\n",
    "print(\"Selected feature names:\", selected_feature_names)      \n",
    "print(result)"
   ]
  },
  {
   "cell_type": "code",
   "execution_count": 8,
   "id": "5a2b20e7-d9d2-400a-a0ae-c0233b9e1b6c",
   "metadata": {},
   "outputs": [],
   "source": [
    "import pickle"
   ]
  },
  {
   "cell_type": "code",
   "execution_count": 9,
   "id": "e7acd3d7-8e9e-4bd9-8a0a-9bc885428631",
   "metadata": {},
   "outputs": [],
   "source": [
    "filename=\"finalized_model_decisionTree.sav\""
   ]
  },
  {
   "cell_type": "code",
   "execution_count": 10,
   "id": "daebf5d5-2720-44e6-b495-6c21ce8aa1c2",
   "metadata": {},
   "outputs": [],
   "source": [
    "filename2=\"finalized_model_sc.sav\""
   ]
  },
  {
   "cell_type": "code",
   "execution_count": 11,
   "id": "156dc8e4-aadd-452a-a853-81475a6fc8a7",
   "metadata": {},
   "outputs": [],
   "source": [
    "pickle.dump(classifier,open(filename,'wb'))"
   ]
  },
  {
   "cell_type": "code",
   "execution_count": 12,
   "id": "7b50a237-aa16-435a-8473-759c88ba406f",
   "metadata": {},
   "outputs": [],
   "source": [
    "pickle.dump(sc,open(filename2,'wb'))"
   ]
  },
  {
   "cell_type": "code",
   "execution_count": 13,
   "id": "42ffabf1-bfdc-42e5-98cc-5362d141454b",
   "metadata": {},
   "outputs": [],
   "source": [
    "loaded_model=pickle.load(open(\"finalized_model_decisionTree.sav\",'rb'))"
   ]
  },
  {
   "cell_type": "code",
   "execution_count": 14,
   "id": "aaddd376-0f15-4d6b-a554-57185dfa7f55",
   "metadata": {},
   "outputs": [],
   "source": [
    "loaded_model2=pickle.load(open(\"finalized_model_sc.sav\",'rb'))"
   ]
  },
  {
   "cell_type": "code",
   "execution_count": 15,
   "id": "32ea492b-7ac9-4e93-be04-ca09ce9eadba",
   "metadata": {},
   "outputs": [
    {
     "data": {
      "text/plain": [
       "array([[ 1.75526219,  0.59121584, -0.17643217, -0.4015706 ,  0.04550575,\n",
       "         1.83371868, -3.00093739]])"
      ]
     },
     "execution_count": 15,
     "metadata": {},
     "output_type": "execute_result"
    }
   ],
   "source": [
    "preinput=sc.transform([[3,192,51,0.9,12.6,54,1245]])\n",
    "preinput"
   ]
  },
  {
   "cell_type": "code",
   "execution_count": 16,
   "id": "7ea3489b-708e-4325-b934-56a90bc9e297",
   "metadata": {},
   "outputs": [],
   "source": [
    "result=loaded_model.predict(preinput)"
   ]
  },
  {
   "cell_type": "code",
   "execution_count": 17,
   "id": "6850d38d-a622-4e19-afd5-0939a4e98840",
   "metadata": {},
   "outputs": [
    {
     "data": {
      "text/plain": [
       "array([1])"
      ]
     },
     "execution_count": 17,
     "metadata": {},
     "output_type": "execute_result"
    }
   ],
   "source": [
    "result"
   ]
  },
  {
   "cell_type": "code",
   "execution_count": null,
   "id": "2408ebe2-cbf6-4c95-b565-a72098f0cec4",
   "metadata": {},
   "outputs": [],
   "source": []
  }
 ],
 "metadata": {
  "kernelspec": {
   "display_name": "Python 3 (ipykernel)",
   "language": "python",
   "name": "python3"
  },
  "language_info": {
   "codemirror_mode": {
    "name": "ipython",
    "version": 3
   },
   "file_extension": ".py",
   "mimetype": "text/x-python",
   "name": "python",
   "nbconvert_exporter": "python",
   "pygments_lexer": "ipython3",
   "version": "3.12.4"
  }
 },
 "nbformat": 4,
 "nbformat_minor": 5
}
