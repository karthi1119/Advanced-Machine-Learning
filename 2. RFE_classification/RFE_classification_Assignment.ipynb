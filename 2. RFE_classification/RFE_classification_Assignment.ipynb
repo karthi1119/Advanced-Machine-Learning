{
 "cells": [
  {
   "cell_type": "code",
   "execution_count": 1,
   "id": "dc11f43b-7339-4a17-801f-2321dc0cacd8",
   "metadata": {},
   "outputs": [
    {
     "name": "stdout",
     "output_type": "stream",
     "text": [
      "Selected Columns: Index(['al', 'sg_c', 'sg_d', 'rbc_normal', 'dm_yes', 'appet_yes'], dtype='object')\n",
      "     SVMl\n",
      "SVC  0.99\n"
     ]
    }
   ],
   "source": [
    "import pandas as pd\n",
    "from sklearn.model_selection import train_test_split \n",
    "from sklearn.preprocessing import StandardScaler\n",
    "from sklearn.feature_selection import RFE\n",
    "from sklearn.svm import SVC\n",
    "from sklearn.metrics import confusion_matrix, accuracy_score, classification_report\n",
    "\n",
    "# Define functions\n",
    "\n",
    "def rfeFeature(indep_X, dep_Y, n):\n",
    "    rfelist = []\n",
    "    selected_columns = []\n",
    "    \n",
    "    svc_model = SVC(kernel='linear', random_state=0)\n",
    "    \n",
    "    log_rfe = RFE(svc_model, n_features_to_select=n)\n",
    "    log_fit = log_rfe.fit(indep_X, dep_Y)\n",
    "    log_rfe_feature = log_fit.transform(indep_X)\n",
    "    rfelist.append(log_rfe_feature)\n",
    "    \n",
    "    # Get selected columns (features)\n",
    "    selected_columns = indep_X.columns[log_rfe.support_]\n",
    "    \n",
    "    return rfelist, selected_columns\n",
    "\n",
    "def split_scalar(indep_X, dep_Y):\n",
    "    X_train, X_test, y_train, y_test = train_test_split(indep_X, dep_Y, test_size=0.25, random_state=0)\n",
    "    \n",
    "    # Feature Scaling\n",
    "    sc = StandardScaler()\n",
    "    X_train = sc.fit_transform(X_train)\n",
    "    X_test = sc.transform(X_test)\n",
    "    \n",
    "    return X_train, X_test, y_train, y_test, sc\n",
    "\n",
    "def cm_prediction(classifier, X_test, y_test):\n",
    "    y_pred = classifier.predict(X_test)\n",
    "    \n",
    "    # Making the Confusion Matrix\n",
    "    cm = confusion_matrix(y_test, y_pred)\n",
    "    \n",
    "    Accuracy = accuracy_score(y_test, y_pred)\n",
    "    report = classification_report(y_test, y_pred)\n",
    "    return classifier, Accuracy, report, X_test, y_test, cm\n",
    "\n",
    "def svm_linear(X_train, y_train, X_test, y_test):\n",
    "    classifier = SVC(kernel='linear', random_state=0)\n",
    "    classifier.fit(X_train, y_train)\n",
    "    return cm_prediction(classifier, X_test, y_test)\n",
    "\n",
    "# Load dataset\n",
    "dataset1 = pd.read_csv(\"CKD.csv\", index_col=None)\n",
    "df2 = pd.get_dummies(dataset1, drop_first=True, dtype=int)\n",
    "\n",
    "indep_X = df2.drop('classification_yes', axis=1)\n",
    "dep_Y = df2['classification_yes']\n",
    "\n",
    "# Apply RFE feature selection\n",
    "rfelist, selected_columns = rfeFeature(indep_X, dep_Y, 6)\n",
    "\n",
    "# Initialize accuracy list\n",
    "accsvml = []\n",
    "\n",
    "# Loop through RFE selected features\n",
    "for i in rfelist:   \n",
    "    X_train, X_test, y_train, y_test, sc = split_scalar(i, dep_Y)\n",
    "    \n",
    "    classifier, Accuracy, report, X_test, y_test, cm = svm_linear(X_train, y_train, X_test, y_test)  \n",
    "    accsvml.append(Accuracy)\n",
    "    \n",
    "# Compile results\n",
    "result = pd.DataFrame(accsvml, index=['SVC'], columns=['SVMl'])\n",
    "print(\"Selected Columns:\", selected_columns)\n",
    "print(result)"
   ]
  },
  {
   "cell_type": "code",
   "execution_count": 2,
   "id": "7557282b-e03c-44ad-9602-82f0a956f7cf",
   "metadata": {},
   "outputs": [],
   "source": [
    "import pickle"
   ]
  },
  {
   "cell_type": "code",
   "execution_count": 3,
   "id": "fa8d6d42-cddc-4677-bcaf-82c1e87bd6f0",
   "metadata": {},
   "outputs": [],
   "source": [
    "filename=\"finalized_model_RFE_classification.sav\""
   ]
  },
  {
   "cell_type": "code",
   "execution_count": 4,
   "id": "cfd52f97-08b9-48e6-aaac-0cca6359d622",
   "metadata": {},
   "outputs": [],
   "source": [
    "filename1=\"finalized_model_sc_RFE_classification.sav\""
   ]
  },
  {
   "cell_type": "code",
   "execution_count": 5,
   "id": "510326c5-d1d2-483c-9b74-95fbcbfc551f",
   "metadata": {},
   "outputs": [],
   "source": [
    "pickle.dump(classifier,open(filename,'wb'))"
   ]
  },
  {
   "cell_type": "code",
   "execution_count": 6,
   "id": "11e2864f-03dc-4a79-90c6-cff47da8e285",
   "metadata": {},
   "outputs": [],
   "source": [
    "pickle.dump(sc,open(filename1,'wb'))"
   ]
  },
  {
   "cell_type": "code",
   "execution_count": 7,
   "id": "2983e9a7-ae2c-4a07-941e-8f7f867a61b6",
   "metadata": {},
   "outputs": [],
   "source": [
    "loaded_model=pickle.load(open(\"finalized_model_RFE_classification.sav\",'rb'))"
   ]
  },
  {
   "cell_type": "code",
   "execution_count": 8,
   "id": "e3895609-aefe-49e2-a1ab-4abd942eb12a",
   "metadata": {},
   "outputs": [],
   "source": [
    "loaded_model2=pickle.load(open(\"finalized_model_sc_RFE_classification.sav\",'rb'))"
   ]
  },
  {
   "cell_type": "code",
   "execution_count": 9,
   "id": "ea0c584f-9bbb-41fb-99b8-cf315a54bac4",
   "metadata": {},
   "outputs": [
    {
     "data": {
      "text/plain": [
       "array([[1.75526219e+00, 4.67588763e+02, 1.33083372e+02, 9.03696114e-02,\n",
       "        2.57247028e+01, 1.31242007e+02]])"
      ]
     },
     "execution_count": 9,
     "metadata": {},
     "output_type": "execute_result"
    }
   ],
   "source": [
    "preinput=sc.transform([[3,192,51,0.9,12.6,54]])\n",
    "preinput"
   ]
  },
  {
   "cell_type": "code",
   "execution_count": 10,
   "id": "2ac60347-8f92-4275-8531-8730ac083e3d",
   "metadata": {},
   "outputs": [],
   "source": [
    "result=loaded_model.predict(preinput)"
   ]
  },
  {
   "cell_type": "code",
   "execution_count": 11,
   "id": "007a662a-8b1e-4edf-acdc-5a6ec001ec65",
   "metadata": {},
   "outputs": [
    {
     "data": {
      "text/plain": [
       "array([1])"
      ]
     },
     "execution_count": 11,
     "metadata": {},
     "output_type": "execute_result"
    }
   ],
   "source": [
    "result"
   ]
  },
  {
   "cell_type": "code",
   "execution_count": null,
   "id": "22efae95-bffb-4d80-b33a-a460a781bf9a",
   "metadata": {},
   "outputs": [],
   "source": []
  }
 ],
 "metadata": {
  "kernelspec": {
   "display_name": "Python 3 (ipykernel)",
   "language": "python",
   "name": "python3"
  },
  "language_info": {
   "codemirror_mode": {
    "name": "ipython",
    "version": 3
   },
   "file_extension": ".py",
   "mimetype": "text/x-python",
   "name": "python",
   "nbconvert_exporter": "python",
   "pygments_lexer": "ipython3",
   "version": "3.12.4"
  }
 },
 "nbformat": 4,
 "nbformat_minor": 5
}
