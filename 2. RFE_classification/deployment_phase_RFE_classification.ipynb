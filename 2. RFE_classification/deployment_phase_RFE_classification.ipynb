{
 "cells": [
  {
   "cell_type": "code",
   "execution_count": 1,
   "id": "89b10c2f-3c50-4222-8bfc-f9e7fdecc40b",
   "metadata": {},
   "outputs": [],
   "source": [
    "import pickle"
   ]
  },
  {
   "cell_type": "code",
   "execution_count": 2,
   "id": "1f12620a-9a27-43d7-839b-5d27930fdf8c",
   "metadata": {},
   "outputs": [],
   "source": [
    "loaded_model=pickle.load(open(\"finalized_model_RFE_classification.sav\",'rb'))"
   ]
  },
  {
   "cell_type": "code",
   "execution_count": 3,
   "id": "fb04995f-d33c-41ca-9361-3a91e80a2db6",
   "metadata": {},
   "outputs": [],
   "source": [
    "loaded_model2=pickle.load(open(\"finalized_model_sc_RFE_classification.sav\",'rb'))"
   ]
  },
  {
   "cell_type": "code",
   "execution_count": 5,
   "id": "580fa78a-a5ad-49b0-a58c-7dbd0a4cbba0",
   "metadata": {},
   "outputs": [
    {
     "data": {
      "text/plain": [
       "array([[1.75526219e+00, 4.67588763e+02, 1.33083372e+02, 9.03696114e-02,\n",
       "        2.57247028e+01, 1.31242007e+02]])"
      ]
     },
     "execution_count": 5,
     "metadata": {},
     "output_type": "execute_result"
    }
   ],
   "source": [
    "preinput=loaded_model2.transform([[3,192,51,0.9,12.6,54]])\n",
    "preinput"
   ]
  },
  {
   "cell_type": "code",
   "execution_count": 6,
   "id": "ab79ce44-b793-4f9a-9f1f-5d7a88218bba",
   "metadata": {},
   "outputs": [],
   "source": [
    "result=loaded_model.predict(preinput)"
   ]
  },
  {
   "cell_type": "code",
   "execution_count": 7,
   "id": "c75f4340-96b8-4ec2-96fc-bb1d3aaffd0c",
   "metadata": {},
   "outputs": [
    {
     "data": {
      "text/plain": [
       "array([1])"
      ]
     },
     "execution_count": 7,
     "metadata": {},
     "output_type": "execute_result"
    }
   ],
   "source": [
    "result"
   ]
  },
  {
   "cell_type": "code",
   "execution_count": null,
   "id": "1dff869f-384f-4ca7-ac98-fa4f6f6bd050",
   "metadata": {},
   "outputs": [],
   "source": []
  }
 ],
 "metadata": {
  "kernelspec": {
   "display_name": "Python 3 (ipykernel)",
   "language": "python",
   "name": "python3"
  },
  "language_info": {
   "codemirror_mode": {
    "name": "ipython",
    "version": 3
   },
   "file_extension": ".py",
   "mimetype": "text/x-python",
   "name": "python",
   "nbconvert_exporter": "python",
   "pygments_lexer": "ipython3",
   "version": "3.12.4"
  }
 },
 "nbformat": 4,
 "nbformat_minor": 5
}
